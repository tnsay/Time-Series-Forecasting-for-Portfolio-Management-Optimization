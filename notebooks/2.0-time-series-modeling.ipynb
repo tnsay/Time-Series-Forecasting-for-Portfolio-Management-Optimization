{
 "cells": [
  {
   "cell_type": "code",
   "execution_count": null,
   "id": "c0843e96",
   "metadata": {},
   "outputs": [],
   "source": [
    "import pandas as pd\n",
    "import numpy as np\n",
    "import matplotlib.pyplot as plt\n",
    "from pmdarima import auto_arima\n",
    "import yfinance as yf\n",
    "from datetime import datetime\n",
    "import scipy.optimize as sco"
   ]
  },
  {
   "cell_type": "code",
   "execution_count": null,
   "id": "3b621565",
   "metadata": {},
   "outputs": [],
   "source": [
    "#1. LOAD DATA\n",
    "# ==========================\n",
    "symbols = [\"TSLA\", \"BND\", \"SPY\"]\n",
    "start = \"2015-07-01\"\n",
    "end = \"2025-07-31\"\n",
    "\n",
    "data = {}\n",
    "for sym in symbols:\n",
    "    df = yf.download(sym, start=start, end=end, progress=False, auto_adjust=False)\n",
    "    df = df.reset_index()\n",
    "    df['Date'] = pd.to_datetime(df['Date'])\n",
    "    df.set_index('Date', inplace=True)\n",
    "    data[sym] = df"
   ]
  },
  {
   "cell_type": "code",
   "execution_count": null,
   "id": "210444a4",
   "metadata": {},
   "outputs": [],
   "source": [
    "#2. FORECAST TSLA with ARIMA\n",
    "# ==========================\n",
    "tsla = data[\"TSLA\"][\"Adj Close\"]\n",
    "\n",
    "# Train-test split (train: up to end of 2023, test: 2024-2025)\n",
    "train = tsla.loc[:'2023-12-31']\n",
    "test = tsla.loc['2024-01-01':]\n",
    "\n",
    "model = auto_arima(train, seasonal=False, trace=False, stepwise=True)\n",
    "forecast, conf_int = model.predict(n_periods=len(test), return_conf_int=True)\n"
   ]
  },
  {
   "cell_type": "code",
   "execution_count": null,
   "id": "9235794d",
   "metadata": {},
   "outputs": [],
   "source": [
    "\n",
    "# Plot forecast vs actual\n",
    "plt.figure(figsize=(12,6))\n",
    "plt.plot(train.index, train, label=\"Train\")\n",
    "plt.plot(test.index, test, label=\"Test\")\n",
    "plt.plot(test.index, forecast, label=\"Forecast\")\n",
    "plt.fill_between(test.index, conf_int[:,0], conf_int[:,1], color='pink', alpha=0.3)\n",
    "plt.title(\"TSLA Price Forecast (ARIMA)\")\n",
    "plt.legend()\n",
    "plt.show()"
   ]
  },
  {
   "cell_type": "code",
   "execution_count": null,
   "id": "76792ada",
   "metadata": {},
   "outputs": [],
   "source": [
    "# Use 12-month future forecast for portfolio expected return\n",
    "future_forecast, _ = model.predict(n_periods=252, return_conf_int=True)  # ~252 trading days\n",
    "tsla_expected_return = (future_forecast[-1] / tsla.iloc[-1] - 1)  # % change over 1 year\n"
   ]
  },
  {
   "cell_type": "code",
   "execution_count": null,
   "id": "80cabed4",
   "metadata": {},
   "outputs": [],
   "source": [
    "# 3. HISTORICAL RETURNS FOR BND & SPY\n",
    "# ==========================\n",
    "returns = pd.DataFrame()\n",
    "for sym in symbols:\n",
    "    returns[sym] = data[sym][\"Adj Close\"].pct_change()\n",
    "\n",
    "# Annualized historical returns for BND & SPY\n",
    "bnd_expected_return = returns[\"BND\"].mean() * 252\n",
    "spy_expected_return = returns[\"SPY\"].mean() * 252"
   ]
  },
  {
   "cell_type": "code",
   "execution_count": null,
   "id": "b0b8fc4b",
   "metadata": {},
   "outputs": [],
   "source": [
    "# Expected returns vector\n",
    "exp_returns = np.array([tsla_expected_return, bnd_expected_return, spy_expected_return])\n",
    "\n",
    "# Covariance matrix (annualized)\n",
    "cov_matrix = returns.cov() * 252"
   ]
  },
  {
   "cell_type": "code",
   "execution_count": null,
   "id": "75864640",
   "metadata": {},
   "outputs": [],
   "source": [
    "# 4. PORTFOLIO OPTIMIZATION (MPT)\n",
    "# ==========================\n",
    "def portfolio_performance(weights, returns, cov_matrix):\n",
    "    port_return = np.dot(weights, returns)\n",
    "    port_volatility = np.sqrt(np.dot(weights.T, np.dot(cov_matrix, weights)))\n",
    "    sharpe_ratio = port_return / port_volatility\n",
    "    return port_return, port_volatility, sharpe_ratio\n",
    "\n",
    "def min_volatility(weights):\n",
    "    return portfolio_performance(weights, exp_returns, cov_matrix)[1]\n",
    "\n",
    "def neg_sharpe(weights):\n",
    "    return -portfolio_performance(weights, exp_returns, cov_matrix)[2]\n",
    "\n",
    "constraints = ({'type':'eq', 'fun': lambda w: np.sum(w) - 1})\n",
    "bounds = tuple((0, 1) for _ in range(3))\n",
    "init_guess = [1/3, 1/3, 1/3]\n"
   ]
  },
  {
   "cell_type": "code",
   "execution_count": null,
   "id": "02de88ed",
   "metadata": {},
   "outputs": [],
   "source": [
    "# Minimum Volatility Portfolio\n",
    "min_vol = sco.minimize(min_volatility, init_guess, method='SLSQP', bounds=bounds, constraints=constraints)\n",
    "\n",
    "# Maximum Sharpe Ratio Portfolio\n",
    "max_sharpe = sco.minimize(neg_sharpe, init_guess, method='SLSQP', bounds=bounds, constraints=constraints)\n"
   ]
  },
  {
   "cell_type": "code",
   "execution_count": null,
   "id": "d3788226",
   "metadata": {},
   "outputs": [],
   "source": [
    "# 5. EFFICIENT FRONTIER\n",
    "# ==========================\n",
    "def efficient_frontier(returns, cov_matrix, num_points=100):\n",
    "    results = np.zeros((3, num_points))\n",
    "    weights_list = []\n",
    "    for i in range(num_points):\n",
    "        weights = np.random.random(3)\n",
    "        weights /= np.sum(weights)\n",
    "        weights_list.append(weights)\n",
    "        ret, vol, sharpe = portfolio_performance(weights, returns, cov_matrix)\n",
    "        results[0,i] = vol\n",
    "        results[1,i] = ret\n",
    "        results[2,i] = sharpe\n",
    "    return results, weights_list\n",
    "\n",
    "results, weights_list = efficient_frontier(exp_returns, cov_matrix)\n",
    "\n",
    "plt.figure(figsize=(10,6))\n",
    "plt.scatter(results[0,:], results[1,:], c=results[2,:], cmap='viridis', marker='o', s=10)\n",
    "plt.colorbar(label='Sharpe Ratio')\n",
    "plt.scatter(portfolio_performance(min_vol.x, exp_returns, cov_matrix)[1],\n",
    "            portfolio_performance(min_vol.x, exp_returns, cov_matrix)[0], \n",
    "            color='red', marker='*', s=200, label='Min Volatility')\n",
    "plt.scatter(portfolio_performance(max_sharpe.x, exp_returns, cov_matrix)[1],\n",
    "            portfolio_performance(max_sharpe.x, exp_returns, cov_matrix)[0], \n",
    "            color='blue', marker='*', s=200, label='Max Sharpe')\n",
    "plt.xlabel('Volatility (Risk)')\n",
    "plt.ylabel('Expected Return')\n",
    "plt.title('Efficient Frontier')\n",
    "plt.legend()\n",
    "plt.show()"
   ]
  },
  {
   "cell_type": "code",
   "execution_count": null,
   "id": "6b80b22b",
   "metadata": {},
   "outputs": [],
   "source": [
    "# 6. FINAL PORTFOLIO RECOMMENDATION\n",
    "# ==========================\n",
    "print(\"Expected Returns Vector (annualized):\", exp_returns)\n",
    "print(\"\\nMinimum Volatility Portfolio Weights:\", min_vol.x)\n",
    "print(\"Performance (Return, Volatility, Sharpe):\", portfolio_performance(min_vol.x, exp_returns, cov_matrix))\n",
    "\n",
    "print(\"\\nMaximum Sharpe Ratio Portfolio Weights:\", max_sharpe.x)\n",
    "print(\"Performance (Return, Volatility, Sharpe):\", portfolio_performance(max_sharpe.x, exp_returns, cov_matrix))"
   ]
  }
 ],
 "metadata": {
  "kernelspec": {
   "display_name": "venv312",
   "language": "python",
   "name": "python3"
  },
  "language_info": {
   "codemirror_mode": {
    "name": "ipython",
    "version": 3
   },
   "file_extension": ".py",
   "mimetype": "text/x-python",
   "name": "python",
   "nbconvert_exporter": "python",
   "pygments_lexer": "ipython3",
   "version": "3.12.6"
  }
 },
 "nbformat": 4,
 "nbformat_minor": 5
}
